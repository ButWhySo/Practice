{
 "cells": [
  {
   "cell_type": "markdown",
   "id": "b3a524b7-ca3d-4260-9f01-6dce0b21d7f5",
   "metadata": {},
   "source": [
    "Code 1 : Area of rectangle"
   ]
  },
  {
   "cell_type": "code",
   "execution_count": 8,
   "id": "19c3e1e4-d436-4e86-b702-69eba39a0197",
   "metadata": {},
   "outputs": [
    {
     "name": "stdin",
     "output_type": "stream",
     "text": [
      "Dimension 1 of rectangle 5\n",
      "Dimension 2 of rectangle 2.5\n"
     ]
    },
    {
     "name": "stdout",
     "output_type": "stream",
     "text": [
      "Area of rect of dimensions :  5.0 X 2.5 is 12.5 units sqr\n"
     ]
    }
   ],
   "source": [
    "l=float(input(\"Dimension 1 of rectangle\"))\n",
    "b=float(input(\"Dimension 2 of rectangle\"))\n",
    "print(\"Area of rect of dimensions : \" ,l ,\"X\",b,\"is\",l*b,\"units sqr\")"
   ]
  },
  {
   "cell_type": "markdown",
   "id": "c94316ef-7802-447a-84f5-ba048e588544",
   "metadata": {},
   "source": [
    " Code 2: Simple interest"
   ]
  },
  {
   "cell_type": "code",
   "execution_count": 7,
   "id": "89c05851-dc9e-4220-befd-8841855c7f4d",
   "metadata": {},
   "outputs": [
    {
     "name": "stdin",
     "output_type": "stream",
     "text": [
      "Enter principle amount :  100\n",
      "Enter rate:  10\n",
      "Enter time period (in yrs) : 1\n"
     ]
    },
    {
     "name": "stdout",
     "output_type": "stream",
     "text": [
      "The amount of interest after  1.0 yrs is 10.0 and final amt is  110.0\n"
     ]
    }
   ],
   "source": [
    "p=float(input(\"Enter principle amount : \"))\n",
    "r=float(input(\"Enter rate: \"))\n",
    "t=float(input(\"Enter time period (in yrs) :\"))\n",
    "print(\"The amount of interest after \" ,t,\"yrs\",\"is\",p*r*t/100,\"and final amt is \",p+(p*r*t/100))"
   ]
  },
  {
   "cell_type": "markdown",
   "id": "76a91e58-a653-43bd-85df-337558fa52cf",
   "metadata": {},
   "source": [
    "Code 3:Script to remove last digit from given number."
   ]
  },
  {
   "cell_type": "code",
   "execution_count": 11,
   "id": "72c33772-35b2-458e-bf55-ff1ed0923c44",
   "metadata": {},
   "outputs": [
    {
     "name": "stdin",
     "output_type": "stream",
     "text": [
      "Enter string to remove last char MistakeN\n"
     ]
    },
    {
     "name": "stdout",
     "output_type": "stream",
     "text": [
      "Mistake\n"
     ]
    }
   ],
   "source": [
    "i=input(\"Enter string to remove last char\")\n",
    "print(i[0:len(i)-1])"
   ]
  },
  {
   "cell_type": "markdown",
   "id": "4d15752c-b6c5-48a3-bad9-7bae55615b24",
   "metadata": {},
   "source": [
    "Code 4:Script to swap data of two variables."
   ]
  },
  {
   "cell_type": "code",
   "execution_count": 16,
   "id": "b3dd5359-2261-4109-8eac-e26bfa555ecb",
   "metadata": {},
   "outputs": [
    {
     "name": "stdin",
     "output_type": "stream",
     "text": [
      "Enter val of a:  2.5\n",
      "Ener value of b:  2.356\n"
     ]
    },
    {
     "name": "stdout",
     "output_type": "stream",
     "text": [
      "swapped a: 2.356 swapped b: 2.5\n"
     ]
    }
   ],
   "source": [
    "\"\"\"\n",
    "There are two approaches : b=a+b , a=b-a,b=b-a\n",
    "and other classic using a temp var\n",
    "and the silly way is just printing a and be swapped \n",
    "\"\"\"\n",
    "\n",
    "a=float(input(\"Enter val of a: \"))\n",
    "b=a+float(input(\"Ener value of b: \"))\n",
    "a=b-a\n",
    "b=b-a\n",
    "print(\"swapped a:\",a,\"swapped b:\",b)\n",
    "\n"
   ]
  },
  {
   "cell_type": "markdown",
   "id": "8171f466-41b1-46c0-b2e8-9f5a737c143b",
   "metadata": {},
   "source": [
    "Code 5:Divisibilty check by 5."
   ]
  },
  {
   "cell_type": "code",
   "execution_count": 18,
   "id": "04ac0ecb-939b-43ed-a1fe-2f1029003a69",
   "metadata": {},
   "outputs": [
    {
     "name": "stdin",
     "output_type": "stream",
     "text": [
      "Enter a number to check divisibilty by 5 26\n"
     ]
    },
    {
     "name": "stdout",
     "output_type": "stream",
     "text": [
      "Not divisible\n"
     ]
    }
   ],
   "source": [
    "print(\"Divisible\" if(float(input(\"Enter a number to check divisibilty by 5\"))%5==0) else \"Not divisible\")"
   ]
  },
  {
   "cell_type": "markdown",
   "id": "90edb715-44d4-424c-bf91-68efd88bdb14",
   "metadata": {},
   "source": [
    "Code 6:Code to print two given words in lexicographic order"
   ]
  },
  {
   "cell_type": "code",
   "execution_count": 23,
   "id": "3283f2c8-d546-46f3-b12c-fd02c96e019b",
   "metadata": {},
   "outputs": [
    {
     "name": "stdin",
     "output_type": "stream",
     "text": [
      "Enter word 1 for lexicographic order:  efgh\n",
      "Enter word 2 for lexicographic order:  abcd\n"
     ]
    },
    {
     "name": "stdout",
     "output_type": "stream",
     "text": [
      "('abcd', 'efgh')\n"
     ]
    }
   ],
   "source": [
    "word1=input(\"Enter word 1 for lexicographic order: \")\n",
    "word2=input(\"Enter word 2 for lexicographic order: \")\n",
    "print((word1,word2) if (word1<word2) else (word2,word1))"
   ]
  },
  {
   "cell_type": "markdown",
   "id": "a9a72b40-096d-45b2-8a81-fa57f16321cb",
   "metadata": {},
   "source": [
    "Code 7:To check if three digit number or not."
   ]
  },
  {
   "cell_type": "code",
   "execution_count": 31,
   "id": "1ab585dc-1b6e-4629-970b-d0b4d1e5b93c",
   "metadata": {},
   "outputs": [
    {
     "name": "stdin",
     "output_type": "stream",
     "text": [
      "Enter a number to check if it is 3 digit or not 12004\n"
     ]
    },
    {
     "name": "stdout",
     "output_type": "stream",
     "text": [
      "Not a three digit number\n"
     ]
    }
   ],
   "source": [
    "\"\"\"\n",
    "classic approach of dividing and checking would be ok....but we are smart ;)\n",
    "Input is by default string, but to eliminate the possibility of anything other than a number...\n",
    "\"\"\"\n",
    "print(\"Yes, three digit number\" if(len(str(int(input(\"Enter a number to check if it is 3 digit or not\"))))==3) else \"Not a three digit number\")"
   ]
  },
  {
   "cell_type": "markdown",
   "id": "8bb3c0dc-cade-4b61-8480-f7c10a549d3a",
   "metadata": {},
   "source": [
    "Code 8:Leap year check."
   ]
  },
  {
   "cell_type": "code",
   "execution_count": 32,
   "id": "927954ad-805a-4d39-8cad-8dbb2ed4a1f8",
   "metadata": {},
   "outputs": [
    {
     "name": "stdin",
     "output_type": "stream",
     "text": [
      "Enter a year to check leap year 2004\n"
     ]
    },
    {
     "name": "stdout",
     "output_type": "stream",
     "text": [
      "Yes\n"
     ]
    }
   ],
   "source": [
    "print(\"Yes\" if (int(input(\"Enter a year to check leap year\"))%4==0) else \"No\")"
   ]
  },
  {
   "cell_type": "markdown",
   "id": "a7f0aa60-a65d-4721-9c98-38fb07a1a2e0",
   "metadata": {},
   "source": [
    "Code 9:To check sign of number."
   ]
  },
  {
   "cell_type": "code",
   "execution_count": 37,
   "id": "3c0a6876-bcbb-48ca-84eb-658554ab4950",
   "metadata": {},
   "outputs": [
    {
     "name": "stdin",
     "output_type": "stream",
     "text": [
      "Enter a number to check its sign 0\n"
     ]
    },
    {
     "name": "stdout",
     "output_type": "stream",
     "text": [
      "Zero\n"
     ]
    }
   ],
   "source": [
    "a=float(input(\"Enter a number to check its sign\"))\n",
    "print(\"Positive\" if (a>0) else \"Negative\" if(a<0) else \"Zero\")"
   ]
  },
  {
   "cell_type": "markdown",
   "id": "f0bcf71d-7a5e-48aa-9790-758d328743eb",
   "metadata": {},
   "source": [
    "Code 10:Compare greater of real and imaginary part from input."
   ]
  },
  {
   "cell_type": "code",
   "execution_count": 44,
   "id": "3ec2cf49-e55c-4bd9-9226-5fb046735f88",
   "metadata": {},
   "outputs": [
    {
     "name": "stdin",
     "output_type": "stream",
     "text": [
      "Enter a valid complex number:  -5-2j\n"
     ]
    },
    {
     "name": "stdout",
     "output_type": "stream",
     "text": [
      "-2.0\n"
     ]
    }
   ],
   "source": [
    "n=complex(input(\"Enter a valid complex number: \"))\n",
    "print(n.real if n.real>n.imag else n.imag)"
   ]
  },
  {
   "cell_type": "markdown",
   "id": "f02371ea-39ef-463c-9c76-e4f7ca90fba4",
   "metadata": {},
   "source": [
    "Remember the times when we were told to write something n times as a punishment?"
   ]
  },
  {
   "cell_type": "code",
   "execution_count": 9,
   "id": "7de47ffb-dea8-40da-aa83-c7ee6df8ae11",
   "metadata": {},
   "outputs": [
    {
     "name": "stdout",
     "output_type": "stream",
     "text": [
      "Something\n",
      "Something\n",
      "Something\n",
      "Something\n",
      "Something\n",
      "Something\n",
      "Something\n",
      "Something\n",
      "Something\n",
      "Something\n",
      "\n",
      "Something\n",
      "Something\n",
      "Something\n",
      "Something\n",
      "Something\n",
      "Something\n",
      "Something\n",
      "Something\n",
      "Something\n",
      "Something\n",
      "Something\n",
      "Something\n",
      "Something\n",
      "Something\n",
      "Something\n",
      "Something\n",
      "Something\n",
      "Something\n",
      "Something\n",
      "Something\n"
     ]
    }
   ],
   "source": [
    "print(\"Something\\n\"*10)\n",
    "#or\n",
    "for i in range(0,10):\n",
    "    print(\"Something\")\n",
    "#or\n",
    "i=0\n",
    "while i<10:\n",
    "    print(\"Something\")\n",
    "    i+=1"
   ]
  },
  {
   "cell_type": "markdown",
   "id": "a618fb73-097e-42c7-a513-72b0d792a614",
   "metadata": {},
   "source": [
    "the fun operators: the deciding operand is printed...keep in mind the short circuiting of pyhton"
   ]
  },
  {
   "cell_type": "code",
   "execution_count": 14,
   "id": "7774dfed-99f0-43f5-97bc-4875ff7cfd2f",
   "metadata": {},
   "outputs": [
    {
     "name": "stdout",
     "output_type": "stream",
     "text": [
      "john\n",
      "\n",
      "doe\n",
      "doe\n"
     ]
    }
   ],
   "source": [
    "print(\"john\" or \"doe\")\n",
    "print(\"\" and \"doe\")\n",
    "print(\"jane\" and \"doe\")\n",
    "print(\"\" or \"doe\")"
   ]
  },
  {
   "cell_type": "markdown",
   "id": "61fe027c-9786-49ea-a44d-9f577906ac02",
   "metadata": {},
   "source": [
    "Code : Prime checker"
   ]
  },
  {
   "cell_type": "code",
   "execution_count": 28,
   "id": "68c0c99c-9fd6-4ecb-8ee8-c86d1b109f43",
   "metadata": {},
   "outputs": [
    {
     "name": "stdin",
     "output_type": "stream",
     "text": [
      " 47\n"
     ]
    },
    {
     "name": "stdout",
     "output_type": "stream",
     "text": [
      "No\n"
     ]
    }
   ],
   "source": [
    "a = int(input())\n",
    "b=int(a**0.5) #intetntional type casting to chop deciaml part\n",
    "print(\"Yes\" if (b**2)==a else \"No\")"
   ]
  },
  {
   "cell_type": "markdown",
   "id": "49e9959e-4a1a-4fc8-8561-d5a875e2c186",
   "metadata": {},
   "source": [
    "Funfact else can be used with for and while loops too!!\n",
    "else runs only once when the condition of while becomes false, and the whole while+else combo is skipped when we use break"
   ]
  },
  {
   "cell_type": "code",
   "execution_count": 30,
   "id": "2c1dda25-5dcd-4b8c-b03f-982b9a242913",
   "metadata": {},
   "outputs": [
    {
     "name": "stdout",
     "output_type": "stream",
     "text": [
      "True\n",
      "True\n",
      "True\n",
      "True\n",
      "True\n",
      "True\n",
      "False\n"
     ]
    }
   ],
   "source": [
    "i=True\n",
    "b=0\n",
    "while i:\n",
    "    print(\"True\")\n",
    "    b+=1\n",
    "    if b>5:\n",
    "        i=False\n",
    "else:\n",
    "    print(\"False\")\n",
    "    "
   ]
  },
  {
   "cell_type": "code",
   "execution_count": 31,
   "id": "47f965b8-ef66-4b59-9ec4-13ab3e51bfd3",
   "metadata": {},
   "outputs": [
    {
     "name": "stdout",
     "output_type": "stream",
     "text": [
      "True\n",
      "True\n",
      "True\n",
      "True\n",
      "True\n",
      "True\n"
     ]
    }
   ],
   "source": [
    "i=True\n",
    "b=0\n",
    "while i:\n",
    "    print(\"True\")\n",
    "    b+=1\n",
    "    if b>5:\n",
    "        break\n",
    "else:\n",
    "    print(\"False\")\n",
    "    "
   ]
  },
  {
   "cell_type": "markdown",
   "id": "bf5a9a16-6d5b-4ad8-9317-f70ead8fc7f1",
   "metadata": {},
   "source": [
    "Downcounting loop"
   ]
  },
  {
   "cell_type": "code",
   "execution_count": 35,
   "id": "59a9a7ec-a2f9-42c1-b7fe-c812186deda7",
   "metadata": {},
   "outputs": [
    {
     "name": "stdout",
     "output_type": "stream",
     "text": [
      "10\n",
      "9\n",
      "8\n",
      "7\n",
      "6\n",
      "5\n",
      "4\n",
      "3\n",
      "2\n",
      "1\n"
     ]
    }
   ],
   "source": [
    "for i in range(10,0,-1):\n",
    "    print(i)"
   ]
  },
  {
   "cell_type": "markdown",
   "id": "a1cd0f1e-e4c9-4d9c-8c0b-f531513b3f3b",
   "metadata": {},
   "source": [
    " Code  : Factorial\n",
    " we can use factorial  method of math module \n",
    " but for here we are going to use  a  more  rudimentary approach"
   ]
  },
  {
   "cell_type": "code",
   "execution_count": 37,
   "id": "ff3639ee-41a2-4a61-a0e8-11412a722828",
   "metadata": {},
   "outputs": [
    {
     "name": "stdin",
     "output_type": "stream",
     "text": [
      "Enter a number  to find  fac torial of:  5\n"
     ]
    },
    {
     "name": "stdout",
     "output_type": "stream",
     "text": [
      "Factorial is : 120\n"
     ]
    }
   ],
   "source": [
    "n=int(input(\"Enter a number  to find  fac torial of: \"))\n",
    "j=1\n",
    "for i in range(1,n+1,1):\n",
    "    j*=i\n",
    "print(\"Factorial is :\",j)"
   ]
  },
  {
   "cell_type": "markdown",
   "id": "7e1783f5-f4b5-4250-877d-899a00dc10f8",
   "metadata": {},
   "source": [
    "Code : Lcm of two integers\n",
    "can be done easily using math.lcm() module\n",
    "but again...."
   ]
  },
  {
   "cell_type": "code",
   "execution_count": 25,
   "id": "02171f03-f614-41f7-a651-757e32cb583a",
   "metadata": {},
   "outputs": [
    {
     "name": "stdin",
     "output_type": "stream",
     "text": [
      "Enter first number 375\n",
      "Enter second number 7\n"
     ]
    },
    {
     "name": "stdout",
     "output_type": "stream",
     "text": [
      "lcm is  2625\n"
     ]
    }
   ],
   "source": [
    "def factors(a): #gives prime factors\n",
    "    l=[]\n",
    "    for i in range(1,a+1):\n",
    "        if(a%i==0):\n",
    "            a=a/i\n",
    "            l.append(i)\n",
    "    l.sort()\n",
    "    return l\n",
    "\n",
    "\n",
    "a,b=int(input(\"Enter first number\")),int(input(\"Enter second number\"))\n",
    "if not a and b:\n",
    "    print(\"0 is a multiple of every number... hence lcm is 1\")\n",
    "else:\n",
    "    x=factors(a)\n",
    "    y=factors(b)\n",
    "    d=[] #list of done nos\n",
    "    for i in x:\n",
    "        if i not in d:\n",
    "            if x.count(i)>y.count(i):\n",
    "                for j in range(0,(x.count(i)-y.count(i))):\n",
    "                    y.append(i)\n",
    "            d.append(i)\n",
    "        else:\n",
    "            continue\n",
    "    i=1\n",
    "    for k in y:\n",
    "        i*=k\n",
    "    print(\"lcm is \",i)        "
   ]
  },
  {
   "cell_type": "markdown",
   "id": "daa02bd1-798a-4a43-ab22-1a8e8be735f3",
   "metadata": {},
   "source": [
    "Code:The married life: your are in trouble if both mom and dad are happy or if both are unhappy..."
   ]
  },
  {
   "cell_type": "code",
   "execution_count": 17,
   "id": "42164022-1e16-4587-9b43-54aacc1ad282",
   "metadata": {},
   "outputs": [
    {
     "name": "stdout",
     "output_type": "stream",
     "text": [
      "CPU times: total: 0 ns\n",
      "Wall time: 0 ns\n"
     ]
    },
    {
     "name": "stdin",
     "output_type": "stream",
     "text": [
      "Enter Happy or Sad for mood of mom Sad\n",
      "Enter Happy or Sad for mood of dad Sad\n"
     ]
    },
    {
     "name": "stdout",
     "output_type": "stream",
     "text": [
      "Someone's in trouble ;D\n"
     ]
    }
   ],
   "source": [
    "%time\n",
    "print(\"You'll be fine\") if ((True if input(\"Enter Happy or Sad for mood of mom\")==\"Happy\" else False) ^ (True if (input(\"Enter Happy or Sad for mood of dad\")==\"Happy\") else False)) else print(\"Someone's in trouble ;D\")\n",
    "    "
   ]
  },
  {
   "cell_type": "markdown",
   "id": "d0d2d618-49a2-43f7-9240-0e3b95ec4e1f",
   "metadata": {},
   "source": [
    "Code : the cat fan club: print true if there are same number of cats and hats in string so that no cat remains without hat"
   ]
  },
  {
   "cell_type": "code",
   "execution_count": 16,
   "id": "a6118a00-ea76-401f-b439-2b5c878511ba",
   "metadata": {},
   "outputs": [
    {
     "name": "stdout",
     "output_type": "stream",
     "text": [
      "CPU times: total: 0 ns\n",
      "Wall time: 1 ms\n"
     ]
    },
    {
     "name": "stdin",
     "output_type": "stream",
     "text": [
      " The hashcat logo has a cat wearing a hat!A cool hat!\n"
     ]
    },
    {
     "name": "stdout",
     "output_type": "stream",
     "text": [
      "True\n"
     ]
    }
   ],
   "source": [
    "%time\n",
    "a=input()\n",
    "print(\"True\" if a.count(\"cat\")==a.count(\"hat\") else \"False\")"
   ]
  },
  {
   "cell_type": "markdown",
   "id": "f29b410c-6da3-452c-b7c8-943c5a2212f8",
   "metadata": {},
   "source": [
    "The pattern printing cliche :D"
   ]
  },
  {
   "cell_type": "code",
   "execution_count": 9,
   "id": "d08511da-1e8f-40bc-9ece-3623c5d56585",
   "metadata": {},
   "outputs": [
    {
     "name": "stdout",
     "output_type": "stream",
     "text": [
      "CPU times: total: 0 ns\n",
      "Wall time: 0 ns\n"
     ]
    },
    {
     "name": "stdin",
     "output_type": "stream",
     "text": [
      "Number of lines of patterns you can bear: 5\n"
     ]
    },
    {
     "name": "stdout",
     "output_type": "stream",
     "text": [
      "*\n",
      "**\n",
      "***\n",
      "****\n",
      "*****\n",
      "    *\n",
      "   **\n",
      "  ***\n",
      " ****\n",
      "*****\n",
      "*        *\n",
      "**      **\n",
      "***    ***\n",
      "****  ****\n",
      "**********\n",
      "    * \n",
      "   * * \n",
      "  * * * \n",
      " * * * * \n",
      "* * * * * \n",
      "*****\n",
      "****\n",
      "***\n",
      "**\n",
      "*\n",
      "*****\n",
      " ****\n",
      "  ***\n",
      "   **\n",
      "    *\n",
      "* * * * * \n",
      " * * * * \n",
      "  * * * \n",
      "   * * \n",
      "    * \n",
      "**********\n",
      "****  ****\n",
      "***    ***\n",
      "**      **\n",
      "*        *\n"
     ]
    }
   ],
   "source": [
    "%time\n",
    "n=int(input(\"Number of lines of patterns you can bear:\"))\n",
    "for i in range(1,n+1):\n",
    "    for j in range(1,i+1):\n",
    "        print(\"*\",end=\"\")\n",
    "    print(\"\")\n",
    "for i in range(1,n+1):\n",
    "    for j in range(1,n-i+1):\n",
    "        print(\" \",end=\"\")\n",
    "    for j in range(1,i+1):\n",
    "        print(\"*\",end=\"\")\n",
    "    print(\"\")\n",
    "for i in range(1,n+1):\n",
    "    for j in range(1,i+1):\n",
    "        print(\"*\",end=\"\")\n",
    "    for j in range(1,n-i+1):\n",
    "        print(\" \",end=\"\")\n",
    "    for j in range(1,n-i+1):\n",
    "        print(\" \",end=\"\")\n",
    "    for j in range(1,i+1):\n",
    "        print(\"*\",end=\"\")\n",
    "    print(\"\")\n",
    "for i in range(1,n+1):\n",
    "    for j in range(1,n-i+1):\n",
    "        print(\" \",end=\"\")\n",
    "    for j in range(1,i+1):\n",
    "        print(\"* \",end=\"\")\n",
    "    print(\"\")\n",
    "for i in range(n,0,-1):\n",
    "    for j in range(1,i+1):\n",
    "        print(\"*\",end=\"\")\n",
    "    print(\"\")\n",
    "for i in range(n,0,-1):\n",
    "    for j in range(1,n-i+1):\n",
    "        print(\" \",end=\"\")\n",
    "    for j in range(1,i+1):\n",
    "        print(\"*\",end=\"\")\n",
    "    print(\"\")\n",
    "for i in range(n,0,-1):\n",
    "    for j in range(1,n-i+1):\n",
    "        print(\" \",end=\"\")\n",
    "    for j in range(1,i+1):\n",
    "        print(\"* \",end=\"\")\n",
    "    print(\"\")\n",
    "for i in range(n,0,-1):\n",
    "    for j in range(1,i+1):\n",
    "        print(\"*\",end=\"\")\n",
    "    for j in range(1,n-i+1):\n",
    "        print(\" \",end=\"\")\n",
    "    for j in range(1,n-i+1):\n",
    "        print(\" \",end=\"\")\n",
    "    for j in range(1,i+1):\n",
    "        print(\"*\",end=\"\")\n",
    "    print(\"\")"
   ]
  },
  {
   "cell_type": "markdown",
   "id": "b60b3263-9cd3-4f40-a548-670b499dec64",
   "metadata": {},
   "source": []
  },
  {
   "cell_type": "code",
   "execution_count": 97,
   "id": "d61db8d0-0344-4d4b-a84d-793faaa2fce4",
   "metadata": {},
   "outputs": [
    {
     "name": "stdin",
     "output_type": "stream",
     "text": [
      "Number of lines of patterns you can bear: 12\n"
     ]
    },
    {
     "name": "stdout",
     "output_type": "stream",
     "text": [
      "*  *  *  *  *  *  *  *  *  *  *  *    *   *  *  *  *  *  *  *  *  *  *  *  *\n",
      "*  *  *  *  *  *  *  *  *  *  *     *   *    *  *  *  *  *  *  *  *  *  *  *\n",
      "*  *  *  *  *  *  *  *  *  *      *   *   *     *  *  *  *  *  *  *  *  *  *\n",
      "*  *  *  *  *  *  *  *  *       *   *   *   *      *  *  *  *  *  *  *  *  *\n",
      "*  *  *  *  *  *  *  *        *   *   *   *   *       *  *  *  *  *  *  *  *\n",
      "*  *  *  *  *  *  *         *   *   *   *   *   *        *  *  *  *  *  *  *\n",
      "*  *  *  *  *  *          *   *   *   *   *   *   *         *  *  *  *  *  *\n",
      "*  *  *  *  *           *   *   *   *   *   *   *   *          *  *  *  *  *\n",
      "*  *  *  *            *   *   *   *   *   *   *   *   *           *  *  *  *\n",
      "*  *  *             *   *   *   *   *   *   *   *   *   *            *  *  *\n",
      "*  *              *   *   *   *   *   *   *   *   *   *   *             *  *\n",
      "*               *   *   *   *   *   *   *   *   *   *   *   *              *\n",
      "*               *   *   *   *   *   *   *   *   *   *   *   *              *\n",
      "*  *              *   *   *   *   *   *   *   *   *   *   *             *  *\n",
      "*  *  *             *   *   *   *   *   *   *   *   *   *            *  *  *\n",
      "*  *  *  *            *   *   *   *   *   *   *   *   *           *  *  *  *\n",
      "*  *  *  *  *           *   *   *   *   *   *   *   *          *  *  *  *  *\n",
      "*  *  *  *  *  *          *   *   *   *   *   *   *         *  *  *  *  *  *\n",
      "*  *  *  *  *  *  *         *   *   *   *   *   *        *  *  *  *  *  *  *\n",
      "*  *  *  *  *  *  *  *        *   *   *   *   *       *  *  *  *  *  *  *  *\n",
      "*  *  *  *  *  *  *  *  *       *   *   *   *      *  *  *  *  *  *  *  *  *\n",
      "*  *  *  *  *  *  *  *  *  *      *   *   *     *  *  *  *  *  *  *  *  *  *\n",
      "*  *  *  *  *  *  *  *  *  *  *     *   *    *  *  *  *  *  *  *  *  *  *  *\n"
     ]
    }
   ],
   "source": [
    "n=int(input(\"Number of lines of patterns you can bear:\"))\n",
    "for i,k in zip(range(n,0,-1),range(1,n+1)):\n",
    "    for j in range(1,i+1):\n",
    "        print(\"*  \",end=\"\")\n",
    "        '''\n",
    "    for j in range(1,n+1):\n",
    "        print(\" \",end=\"\")\n",
    "        '''\n",
    "    for j in range(1,n-i+1):\n",
    "        print(\" \",end=\"\")\n",
    "    for j in range(1,k+1):\n",
    "        print(\"  * \",end=\"\")\n",
    "    for j in range(1,n-i+1):\n",
    "        print(\" \",end=\"\")\n",
    "    for j in range(1,i+1):\n",
    "        print(\"  *\",end=\"\")\n",
    "    print(\"\")\n",
    "for i,k in zip(range(1,n),range(n,0,-1)):\n",
    "    for j in range(1,i+1):\n",
    "        print(\"*  \",end=\"\")\n",
    "        '''\n",
    "    for j in range(1,n+1):\n",
    "        print(\" \",end=\"\")\n",
    "        '''\n",
    "    for j in range(1,n-i+1):\n",
    "        print(\" \",end=\"\")\n",
    "    for j in range(1,k+1):\n",
    "        print(\"  * \",end=\"\")\n",
    "    for j in range(1,n-i+1):\n",
    "        print(\" \",end=\"\")\n",
    "    for j in range(1,i+1):\n",
    "        print(\"  *\",end=\"\")\n",
    "    print(\"\")"
   ]
  },
  {
   "attachments": {},
   "cell_type": "markdown",
   "id": "d7d1e096-d68c-4dc3-ba84-2d5328c6d844",
   "metadata": {},
   "source": [
    "chatgpt suggested challenge\n",
    "Challenge: Create a Dynamic Diamond Pattern with User Input\n",
    "Modify your code to meet the following criteria:\n",
    "\n",
    "Ask the user for the number of lines they want in the pattern. Ensure that this number is always odd so that the diamond pattern is symmetrical.\n",
    "Generate a diamond pattern based on the user’s input, with stars (*) forming the shape of a diamond, similar to what you’ve done but dynamically sized.\n",
    "After creating the diamond, add a hollow diamond pattern inside the current diamond, such that only the outer edges of both the large and small diamonds are visible."
   ]
  },
  {
   "cell_type": "code",
   "execution_count": 110,
   "id": "3fbd4d75-848f-4a9c-aa20-be2a2f1077e1",
   "metadata": {},
   "outputs": [
    {
     "name": "stdin",
     "output_type": "stream",
     "text": [
      "Number of lines of patterns you can bear: 13\n"
     ]
    },
    {
     "name": "stdout",
     "output_type": "stream",
     "text": [
      "            **\n",
      "           *  *\n",
      "          *    *\n",
      "         *      *\n",
      "        *        *\n",
      "       *          *\n",
      "      *            *\n",
      "     *              *\n",
      "    *                *\n",
      "   *                  *\n",
      "  *                    *\n",
      " *                      *\n",
      "*                        *\n",
      "*                        *\n",
      " *                      *\n",
      "  *                    *\n",
      "   *                  *\n",
      "    *                *\n",
      "     *              *\n",
      "      *            *\n",
      "       *          *\n",
      "        *        *\n",
      "         *      *\n",
      "          *    *\n",
      "           *  *\n",
      "            **\n"
     ]
    }
   ],
   "source": [
    "n=int(input(\"Number of lines of patterns you can bear:\"))\n",
    "for i in range(n,0,-1):\n",
    "    for j in range(1,i+1):\n",
    "        if(j==i):\n",
    "            print(\"*\",end=\"\")\n",
    "        else:\n",
    "            print(\" \",end=\"\")\n",
    "    for j in range(1,n-i+1):\n",
    "        print(\" \",end=\"\")\n",
    "    for j in range(1,n-i+1):\n",
    "        print(\" \",end=\"\")\n",
    "    for j in range(1,i+1):\n",
    "        if(j==1):\n",
    "            print(\"*\",end=\"\")\n",
    "    print(\"\")\n",
    "for i in range(1,n+1):\n",
    "    for j in range(1,i+1):\n",
    "        if(j==i):\n",
    "            print(\"*\",end=\"\")\n",
    "        else:\n",
    "            print(\" \",end=\"\")\n",
    "    for j in range(1,n-i+1):\n",
    "        print(\" \",end=\"\")\n",
    "    for j in range(1,n-i+1):\n",
    "        print(\" \",end=\"\")\n",
    "    for j in range(1,i+1):\n",
    "        if(j==1):\n",
    "            print(\"*\",end=\"\")\n",
    "    print(\"\")"
   ]
  },
  {
   "cell_type": "markdown",
   "id": "0aa1e9f0-9f86-4e82-8e7f-54cf1f858076",
   "metadata": {},
   "source": [
    "chatgpt suggested challenge\n",
    "It looks like you've successfully created a hollow diamond pattern with only the edges formed by stars! This is exactly what I was aiming for in the challenge. Well done!\n",
    "\n",
    "Next Level Challenge (Optional)\n",
    "If you're up for another level, here’s an additional twist:\n",
    "\n",
    "Double Diamond Pattern: Inside the existing hollow diamond, add a smaller hollow diamond. This will create a \"double diamond\" effect. For example, if the outer diamond is based on n = 9, then the inner diamond could be based on n = 5.\n",
    "\n",
    "User-Adjustable Inner Diamond: Let the user decide whether they want an inner diamond and its size if they do.\n",
    "\n",
    "Would you like to try this, or do you have a specific type of pattern you’re interested in experimenting with?"
   ]
  },
  {
   "cell_type": "code",
   "execution_count": 123,
   "id": "700f68b7-4069-48cc-ab62-d06ce933d04a",
   "metadata": {},
   "outputs": [
    {
     "name": "stdin",
     "output_type": "stream",
     "text": [
      "Number of lines of patterns you can bear: 10\n"
     ]
    },
    {
     "name": "stdout",
     "output_type": "stream",
     "text": [
      "                           *    *   *                           \n",
      "                        *     *   *    *                        \n",
      "                     *      *       *     *                     \n",
      "                  *       *           *      *                  \n",
      "               *        *               *       *               \n",
      "            *         *                   *        *            \n",
      "         *          *                       *         *         \n",
      "      *           *                           *          *      \n",
      "   *            *                               *           *   \n",
      "*             *                                   *            *\n",
      "*             *                                   *            *\n",
      "   *            *                               *           *   \n",
      "      *           *                           *          *      \n",
      "         *          *                       *         *         \n",
      "            *         *                   *        *            \n",
      "               *        *               *       *               \n",
      "                  *       *           *      *                  \n",
      "                     *      *       *     *                     \n",
      "                        *     *   *    *                        \n"
     ]
    }
   ],
   "source": [
    "n=int(input(\"Number of lines of patterns you can bear:\"))\n",
    "for i,k in zip(range(n,0,-1),range(1,n+1)):\n",
    "    for j in range(1,i+1):\n",
    "        if (j==i):\n",
    "            print(\"*  \",end=\"\")\n",
    "        else:\n",
    "            print(\"   \",end=\"\")\n",
    "            \n",
    "        '''\n",
    "    for j in range(1,n+1):\n",
    "        print(\" \",end=\"\")\n",
    "        '''\n",
    "    for j in range(1,n-i+1):\n",
    "        print(\" \",end=\"\")\n",
    "    for j in range(1,k+1):\n",
    "        if j==1 or j==k:\n",
    "            print(\"  * \",end=\"\")\n",
    "        else:\n",
    "            print(\"    \",end=\"\")\n",
    "    for j in range(1,n-i+1):\n",
    "        print(\" \",end=\"\")\n",
    "    for j in range(1,i+1):\n",
    "        if (j==1):\n",
    "            print(\"  *\",end=\"\")\n",
    "        else:\n",
    "            print(\"   \",end=\"\")\n",
    "    print(\"\")\n",
    "for i,k in zip(range(1,n),range(n,0,-1)):\n",
    "    for j in range(1,i+1):\n",
    "        if (j==i):\n",
    "            print(\"*  \",end=\"\")\n",
    "        else:\n",
    "            print(\"   \",end=\"\")\n",
    "            \n",
    "        '''\n",
    "    for j in range(1,n+1):\n",
    "        print(\" \",end=\"\")\n",
    "        '''\n",
    "    for j in range(1,n-i+1):\n",
    "        print(\" \",end=\"\")\n",
    "    for j in range(1,k+1):\n",
    "        if j==1 or j==k:\n",
    "            print(\"  * \",end=\"\")\n",
    "        else:\n",
    "            print(\"    \",end=\"\")\n",
    "    for j in range(1,n-i+1):\n",
    "        print(\" \",end=\"\")\n",
    "    for j in range(1,i+1):\n",
    "        if (j==1):\n",
    "            print(\"  *\",end=\"\")\n",
    "        else:\n",
    "            print(\"   \",end=\"\")\n",
    "    print(\"\")"
   ]
  },
  {
   "cell_type": "markdown",
   "id": "80687da3-a846-489b-80aa-ca39b392e60e",
   "metadata": {},
   "source": [
    "Code : reverse a given string wordwise"
   ]
  },
  {
   "cell_type": "code",
   "execution_count": 132,
   "id": "8079376c-379e-42f6-89f2-c4cf454e84bb",
   "metadata": {},
   "outputs": [
    {
     "name": "stdin",
     "output_type": "stream",
     "text": [
      "Enter a string to reverse wordwise: wait why\n"
     ]
    },
    {
     "name": "stdout",
     "output_type": "stream",
     "text": [
      "why wait\n"
     ]
    }
   ],
   "source": [
    "print(\" \".join(input(\"Enter a string to reverse wordwise:\").split(\" \")[::-1]))"
   ]
  },
  {
   "cell_type": "code",
   "execution_count": null,
   "id": "88bb15a7-e643-43d9-9584-d7d271893c59",
   "metadata": {},
   "outputs": [],
   "source": []
  }
 ],
 "metadata": {
  "kernelspec": {
   "display_name": "Python 3 (ipykernel)",
   "language": "python",
   "name": "python3"
  },
  "language_info": {
   "codemirror_mode": {
    "name": "ipython",
    "version": 3
   },
   "file_extension": ".py",
   "mimetype": "text/x-python",
   "name": "python",
   "nbconvert_exporter": "python",
   "pygments_lexer": "ipython3",
   "version": "3.12.7"
  }
 },
 "nbformat": 4,
 "nbformat_minor": 5
}
